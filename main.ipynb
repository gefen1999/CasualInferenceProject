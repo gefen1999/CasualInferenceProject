{
 "cells": [
  {
   "cell_type": "code",
   "execution_count": 30,
   "id": "initial_id",
   "metadata": {
    "collapsed": true,
    "ExecuteTime": {
     "end_time": "2024-10-14T10:08:59.993904Z",
     "start_time": "2024-10-14T10:08:59.986883Z"
    }
   },
   "outputs": [],
   "source": [
    "import pandas as pd\n",
    "import numpy as np\n",
    "from sklearn.linear_model import LogisticRegression, LinearRegression\n",
    "from sklearn.neighbors import NearestNeighbors\n",
    "import matplotlib.pyplot as plt\n",
    "from sklearn.calibration import calibration_curve\n",
    "from sklearn.metrics import brier_score_loss\n",
    "import xgboost as xgb\n"
   ]
  },
  {
   "cell_type": "markdown",
   "source": [],
   "metadata": {
    "collapsed": false
   },
   "id": "549adaf21d36283"
  },
  {
   "cell_type": "code",
   "outputs": [
    {
     "name": "stdout",
     "output_type": "stream",
     "text": [
      "Treated group size: 726\n",
      "Control group size: 1666\n",
      "Grade distribution for treated group:\n",
      "GradeClass\n",
      "4.0    0.495868\n",
      "3.0    0.173554\n",
      "2.0    0.151515\n",
      "1.0    0.126722\n",
      "0.0    0.052342\n",
      "Name: proportion, dtype: float64\n",
      "Grade distribution for control group:\n",
      "GradeClass\n",
      "4.0    0.510804\n",
      "3.0    0.172869\n",
      "2.0    0.168667\n",
      "1.0    0.106242\n",
      "0.0    0.041417\n",
      "Name: proportion, dtype: float64\n"
     ]
    }
   ],
   "source": [
    "data = pd.read_csv('Student_performance_data.csv')\n",
    "feature_cols = ['ParentalSupport', 'ParentalEducation', 'Age', 'Gender', 'Ethnicity']\n",
    "post_treatment_feature_cols = ['Volunteering', 'Music', 'Extracurricular', 'Tutoring', 'Absences', 'StudyTimeWeekly']\n",
    "treatment_col  = 'Sports'\n",
    "outcome_col = 'GradeClass'\n",
    "X = data[feature_cols] \n",
    "T = data[treatment_col]\n",
    "Y = data[outcome_col]\n",
    "\n",
    "treated_locations = T == 1\n",
    "control_locations = T == 0\n",
    "\n",
    "# print treated and control group sizes\n",
    "print(f'Treated group size: {T.sum()}')\n",
    "print(f'Control group size: {len(T) - T.sum()}')\n",
    "\n",
    "# print grade distribution for treated and control groups\n",
    "print('Grade distribution for treated group:')\n",
    "print(Y[T == 1].value_counts(normalize=True))\n",
    "\n",
    "print('Grade distribution for control group:')\n",
    "print(Y[T == 0].value_counts(normalize=True))"
   ],
   "metadata": {
    "collapsed": false,
    "ExecuteTime": {
     "end_time": "2024-10-14T10:09:00.471172Z",
     "start_time": "2024-10-14T10:09:00.459335Z"
    }
   },
   "id": "f5e2e7e5c9d963ba",
   "execution_count": 31
  },
  {
   "cell_type": "code",
   "outputs": [],
   "source": [
    "from sklearn.ensemble import RandomForestClassifier\n",
    "from sklearn.linear_model import LogisticRegression\n",
    "from sklearn.metrics import brier_score_loss\n",
    "from sklearn.calibration import calibration_curve\n",
    "from sklearn.preprocessing import StandardScaler\n",
    "from sklearn.model_selection import train_test_split\n",
    "import matplotlib.pyplot as plt\n",
    "import pandas as pd\n",
    "\n",
    "def calculate_propensity_scores(X, T, rf_model=True):\n",
    "    if rf_model:\n",
    "        rf_model = RandomForestClassifier(n_estimators=3, random_state=42)\n",
    "        rf_model.fit(X, T)\n",
    "        propensity_scores = rf_model.predict_proba(X)[:, 1]\n",
    "        return propensity_scores\n",
    "    else:\n",
    "        # Scale the features\n",
    "        scaler = StandardScaler()\n",
    "        X = scaler.fit_transform(X)\n",
    "        log_reg = LogisticRegression(max_iter=10000)\n",
    "        log_reg.fit(X, T)\n",
    "        propensity_scores = log_reg.predict_proba(X)[:, 1]\n",
    "        return propensity_scores\n",
    "\n",
    "def calculate_and_plot_calibration(propensity_scores_data, T):\n",
    "    # Calculate Brier Score\n",
    "    brier_score = brier_score_loss(T, propensity_scores_data)\n",
    "    print(f'Brier Score: {brier_score:.2f}')\n",
    "\n",
    "    # Generate Calibration Curve\n",
    "    prob_true, prob_pred = calibration_curve(T, propensity_scores_data, n_bins=10)\n",
    "\n",
    "    # Plot Calibration Curve\n",
    "    plt.figure(figsize=(8, 6))\n",
    "    plt.plot(prob_pred, prob_true, marker='o', label='Model Calibration')\n",
    "    plt.plot([0, 1], [0, 1], linestyle='--', label='Perfect Calibration', color='gray')\n",
    "    plt.xlabel('Mean Predicted Probability')\n",
    "    plt.ylabel('Fraction of Positives')\n",
    "    plt.title('Calibration Plot (Reliability Diagram)')\n",
    "    plt.legend()\n",
    "    plt.show()\n",
    "\n",
    "def overlap_propensity_graph(treated_scores, control_scores):\n",
    "    # Create histograms\n",
    "    plt.hist(control_scores, bins=30, color='red', alpha=0.5, label='Control')\n",
    "    plt.hist(treated_scores, bins=30, color='blue', alpha=0.5, label='Treated')\n",
    "\n",
    "    # Labels and legend\n",
    "    plt.xlabel('Propensity Score')\n",
    "    plt.ylabel('Number of Units')\n",
    "    plt.legend(loc='upper right')\n",
    "\n",
    "    # Show the plot\n",
    "    plt.show()\n",
    "\n",
    "# Example of Training and Evaluating on a Test Set\n",
    "def train_and_evaluate_propensity_model(X, T, rf_model=True):\n",
    "    # Split data into train and test sets\n",
    "    X_train, X_test, T_train, T_test = train_test_split(X, T, test_size=0.3, random_state=42)\n",
    "\n",
    "    # Calculate propensity scores using training set\n",
    "    propensity_scores_train = calculate_propensity_scores(X_train, T_train, rf_model=rf_model)\n",
    "    \n",
    "\n",
    "    # Calculate and plot calibration for the train set\n",
    "    print(\"Train Set Calibration:\")\n",
    "    calculate_and_plot_calibration(propensity_scores_train, T_train)\n",
    "\n",
    "    # Calculate propensity scores using the test set\n",
    "    propensity_scores_test = calculate_propensity_scores(X_test, T_test, rf_model=rf_model)\n",
    "\n",
    "    # Calculate and plot calibration for the test set\n",
    "    print(\"Test Set Calibration:\")\n",
    "    calculate_and_plot_calibration(propensity_scores_test, T_test) \n",
    "    \n",
    "    propensity_scores_train = pd.Series(propensity_scores_train, index=X_train.index)\n",
    "    propensity_scores_test = pd.Series(propensity_scores_test, index=X_test.index)\n",
    "    propensity_scores = pd.concat([propensity_scores_train, propensity_scores_test])\n",
    "    \n",
    "    # overlap graph\n",
    "    overlap_propensity_graph(propensity_scores[T == 1], propensity_scores[T == 0])\n",
    "    return propensity_scores\n",
    "\n"
   ],
   "metadata": {
    "collapsed": false,
    "ExecuteTime": {
     "end_time": "2024-10-14T10:09:00.895474Z",
     "start_time": "2024-10-14T10:09:00.810732Z"
    }
   },
   "id": "665b91cbe8c4bcc0",
   "execution_count": 33
  },
  {
   "cell_type": "code",
   "outputs": [
    {
     "name": "stdout",
     "output_type": "stream",
     "text": [
      "Train Set Calibration:\n",
      "Brier Score: 0.17\n"
     ]
    },
    {
     "data": {
      "text/plain": "<Figure size 800x600 with 1 Axes>",
      "image/png": "[encoded data removed]"
     },
     "metadata": {},
     "output_type": "display_data"
    },
    {
     "name": "stdout",
     "output_type": "stream",
     "text": [
      "Test Set Calibration:\n",
      "Brier Score: 0.14\n"
     ]
    },
    {
     "data": {
      "text/plain": "<Figure size 800x600 with 1 Axes>",
      "image/png": "[encoded data removed]"
     },
     "metadata": {},
     "output_type": "display_data"
    },
    {
     "data": {
      "text/plain": "<Figure size 640x480 with 1 Axes>",
      "image/png": "[encoded data removed]"
     },
     "metadata": {},
     "output_type": "display_data"
    }
   ],
   "source": [
    "propensity_scores = train_and_evaluate_propensity_model(X, T, rf_model=True)\n",
    "# TODO: note - run also in rf_model=False\n",
    "propensity_scores = np.clip(propensity_scores, 0.01, 0.99)\n",
    "sample_weights = T / propensity_scores + (1 - T) / (1 - propensity_scores)\n",
    "sample_weights = np.nan_to_num(sample_weights, nan=1.0, posinf=1.0, neginf=1.0)"
   ],
   "metadata": {
    "collapsed": false,
    "ExecuteTime": {
     "end_time": "2024-10-14T10:09:01.278431Z",
     "start_time": "2024-10-14T10:09:00.991413Z"
    }
   },
   "id": "9c9281e3a72519d0",
   "execution_count": 34
  },
  {
   "cell_type": "code",
   "outputs": [],
   "source": [
    "from sklearn.ensemble import RandomForestRegressor\n",
    "from sklearn.model_selection import train_test_split\n",
    "import numpy as np\n",
    "import pandas as pd\n",
    "import xgboost as xgb\n",
    "\n",
    "# Function to estimate ATT and ATE using S-learner with Random Forest or XGBoost\n",
    "def estimate_att_and_ate_s_learner(T, Y, X, sample_weights=None, is_rf_model=True, n_bootstrap=1000, ci=95):\n",
    "    # Concatenate treatment indicator to covariates\n",
    "    X_T = pd.concat([X, T.rename('T')], axis=1)\n",
    "\n",
    "    # Store results for bootstrap estimates\n",
    "    ate_estimates = []\n",
    "    att_estimates = []\n",
    "    train_rmse_values = []\n",
    "    val_rmse_values = []\n",
    "\n",
    "    for _ in range(n_bootstrap):\n",
    "        # Bootstrap resampling\n",
    "        indices = np.random.choice(len(X_T), size=len(X_T), replace=True)\n",
    "        X_T_resample = X_T.iloc[indices]\n",
    "        Y_resample = Y.iloc[indices]\n",
    "        T_resample = T.iloc[indices]\n",
    "\n",
    "        # Split into training and validation sets\n",
    "        X_train, X_val, Y_train, Y_val = train_test_split(X_T_resample, Y_resample, test_size=0.3, random_state=42)\n",
    "\n",
    "        # Clip the propensity scores to avoid 0 and 1 values\n",
    "        if sample_weights is not None:\n",
    "            sample_weights_train = sample_weights[X_train.index]\n",
    "        else:\n",
    "            sample_weights_train = None\n",
    "\n",
    "        if is_rf_model:\n",
    "            # Define a Random Forest model optimized for small datasets\n",
    "            model = RandomForestRegressor(\n",
    "                n_estimators=50,\n",
    "                max_depth=5,\n",
    "                min_samples_split=5,\n",
    "                min_samples_leaf=3,\n",
    "                max_features='sqrt',\n",
    "                random_state=42,\n",
    "                n_jobs=-1\n",
    "            )\n",
    "        else:\n",
    "            # Define an XGBoost Regressor for small datasets\n",
    "            model = xgb.XGBRegressor(\n",
    "                n_estimators=100,\n",
    "                max_depth=6,\n",
    "                learning_rate=0.1,\n",
    "                subsample=0.5,\n",
    "                colsample_bytree=0.5,\n",
    "                random_state=42,\n",
    "                n_jobs=-1\n",
    "            )\n",
    "\n",
    "        # Train the model on the training data\n",
    "        model.fit(X_train, Y_train, sample_weight=sample_weights_train)\n",
    "\n",
    "        # Calculate predictions for treated and control scenarios\n",
    "        X_T_1 = pd.concat([X, pd.Series(np.ones(len(X)), name='T')], axis=1)  # Data with T = 1\n",
    "        X_T_0 = pd.concat([X, pd.Series(np.zeros(len(X)), name='T')], axis=1)  # Data with T = 0\n",
    "\n",
    "        # Predict outcomes under treated and control scenarios\n",
    "        Y1_pred = model.predict(X_T_1)\n",
    "        Y0_pred = model.predict(X_T_0)\n",
    "\n",
    "        # Calculate ATT for the treated group (treated - control for treated individuals)\n",
    "        att_s_learner = np.mean(Y1_pred[T_resample == 1] - Y0_pred[T_resample == 1])\n",
    "        att_estimates.append(att_s_learner)\n",
    "\n",
    "        # Calculate Average Treatment Effect (ATE) for the entire population\n",
    "        ate_s_learner = np.mean(Y1_pred - Y0_pred)\n",
    "        ate_estimates.append(ate_s_learner)\n",
    "\n",
    "        # Calculate RMSE for this run and store the values\n",
    "        train_rmse = np.sqrt(np.mean((Y_train - model.predict(X_train))**2))\n",
    "        val_rmse = np.sqrt(np.mean((Y_val - model.predict(X_val))**2))\n",
    "        train_rmse_values.append(train_rmse)\n",
    "        val_rmse_values.append(val_rmse)\n",
    "\n",
    "    # Compute confidence intervals\n",
    "    lower_percentile = (100 - ci) / 2\n",
    "    upper_percentile = 100 - lower_percentile\n",
    "    ate_ci = np.percentile(ate_estimates, [lower_percentile, upper_percentile])\n",
    "    att_ci = np.percentile(att_estimates, [lower_percentile, upper_percentile])\n",
    "\n",
    "    # Calculate the mean RMSE across all bootstrap runs\n",
    "    mean_train_rmse = np.mean(train_rmse_values)\n",
    "    mean_val_rmse = np.mean(val_rmse_values)\n",
    "\n",
    "    # Print results\n",
    "    print(f'Mean Training RMSE: {mean_train_rmse:.2f}')\n",
    "    print(f'Mean Validation RMSE: {mean_val_rmse:.2f}')\n",
    "    print(f'Average Treatment Effect (ATE): {ate_s_learner:.2f} (95% CI: {ate_ci})')\n",
    "    print(f'Average Treatment Effect for Treated (ATT): {att_s_learner:.2f} (95% CI: {att_ci})')\n",
    "\n",
    "    return ate_ci, att_ci, mean_train_rmse, mean_val_rmse\n"
   ],
   "metadata": {
    "collapsed": false,
    "ExecuteTime": {
     "end_time": "2024-10-14T10:09:01.291766Z",
     "start_time": "2024-10-14T10:09:01.280584Z"
    }
   },
   "id": "9bc838d34e27a045",
   "execution_count": 35
  },
  {
   "cell_type": "code",
   "outputs": [
    {
     "name": "stdout",
     "output_type": "stream",
     "text": [
      "Mean Training RMSE: 1.19\n",
      "Mean Validation RMSE: 1.22\n",
      "Average Treatment Effect (ATE): -0.07 (95% CI: [-0.22575853  0.06563217])\n",
      "Average Treatment Effect for Treated (ATT): -0.06 (95% CI: [-0.223668    0.06598354])\n",
      "Mean Training RMSE: 1.18\n",
      "Mean Validation RMSE: 1.21\n",
      "Average Treatment Effect (ATE): -0.01 (95% CI: [-0.1610139   0.04334061])\n",
      "Average Treatment Effect for Treated (ATT): -0.01 (95% CI: [-0.16182193  0.03988571])\n",
      "Mean Training RMSE: 1.12\n",
      "Mean Validation RMSE: 1.22\n",
      "Average Treatment Effect (ATE): -0.08 (95% CI: [-0.24008092  0.05487079])\n",
      "Average Treatment Effect for Treated (ATT): -0.09 (95% CI: [-0.24083353  0.05967112])\n",
      "Mean Training RMSE: 1.09\n",
      "Mean Validation RMSE: 1.20\n",
      "Average Treatment Effect (ATE): -0.07 (95% CI: [-0.21180208  0.05675607])\n",
      "Average Treatment Effect for Treated (ATT): -0.08 (95% CI: [-0.20695274  0.05466428])\n"
     ]
    },
    {
     "data": {
      "text/plain": "(array([-0.21180208,  0.05675607]),\n array([-0.20695274,  0.05466428]),\n 1.0878603854583189,\n 1.1962108864334653)"
     },
     "execution_count": 36,
     "metadata": {},
     "output_type": "execute_result"
    }
   ],
   "source": [
    "# Estimate ATT using the S-Learner\n",
    "estimate_att_and_ate_s_learner(T, Y, X, sample_weights=sample_weights, is_rf_model=True)\n",
    "print()\n",
    "estimate_att_and_ate_s_learner(T, Y, X, is_rf_model=True)\n",
    "print()\n",
    "estimate_att_and_ate_s_learner(T, Y, X, sample_weights=sample_weights, is_rf_model=False)\n",
    "print()\n",
    "estimate_att_and_ate_s_learner(T, Y, X, is_rf_model=False)\n",
    "# TODO: note: the use of sample weights (propensity scores) for the model, is something worth mentioning we tried, also it doesnt seem to make a big difference from some reason\n",
    "# TODO: note: rmse 1 means that in average we miss by one grade\n",
    "# TODO: note: due the fact that the data is small and that both models get to similiar result after a lot of hyperparameter tuning, we can assume this is the best result we can get"
   ],
   "metadata": {
    "collapsed": false,
    "ExecuteTime": {
     "end_time": "2024-10-14T10:14:36.185641Z",
     "start_time": "2024-10-14T10:09:01.702988Z"
    }
   },
   "id": "a274329f0318294b",
   "execution_count": 36
  },
  {
   "cell_type": "code",
   "outputs": [],
   "source": [
    "import numpy as np\n",
    "import pandas as pd\n",
    "from sklearn.ensemble import RandomForestRegressor\n",
    "from sklearn.model_selection import train_test_split\n",
    "import xgboost as xgb\n",
    "\n",
    "# Function to estimate ATT and ATE using T-Learner with Random Forest or XGBoost\n",
    "def estimate_att_and_ate_t_learner(T, Y, X, is_rf_model=True, n_bootstrap=1000, ci=95):\n",
    "\n",
    "    # Store results for bootstrap estimates\n",
    "    att_estimates = []\n",
    "    ate_estimates = []\n",
    "    train_rmse_treated_values = []\n",
    "    train_rmse_control_values = []\n",
    "    val_rmse_treated_values = []\n",
    "    val_rmse_control_values = []\n",
    "\n",
    "    for _ in range(n_bootstrap):\n",
    "        # Bootstrap resampling\n",
    "        indices = np.random.choice(len(X), size=len(X), replace=True)\n",
    "        X_resample = X.iloc[indices]\n",
    "        Y_resample = Y.iloc[indices]\n",
    "        T_resample = T.iloc[indices]\n",
    "\n",
    "        # Split into training and validation sets\n",
    "        X_train, X_val, Y_train, Y_val, T_train, T_val = train_test_split(X_resample, Y_resample, T_resample, test_size=0.3, random_state=42)\n",
    "\n",
    "        if is_rf_model:\n",
    "            # Define separate Random Forest models for treated and control groups\n",
    "            model_treated = RandomForestRegressor(\n",
    "                n_estimators=100,\n",
    "                max_depth=6,\n",
    "                min_samples_split=10,\n",
    "                min_samples_leaf=5,\n",
    "                random_state=42,\n",
    "                n_jobs=-1\n",
    "            )\n",
    "            model_control = RandomForestRegressor(\n",
    "                n_estimators=100,\n",
    "                max_depth=6,\n",
    "                min_samples_split=10,\n",
    "                min_samples_leaf=5,\n",
    "                random_state=42,\n",
    "                n_jobs=-1\n",
    "            )\n",
    "        else:\n",
    "            # Define separate XGBoost models for treated and control groups\n",
    "            model_treated = xgb.XGBRegressor(\n",
    "                n_estimators=100,\n",
    "                max_depth=6,\n",
    "                learning_rate=0.1,\n",
    "                subsample=0.5,\n",
    "                colsample_bytree=0.5,\n",
    "                random_state=42,\n",
    "                n_jobs=-1\n",
    "            )\n",
    "            model_control = xgb.XGBRegressor(\n",
    "                n_estimators=100,\n",
    "                max_depth=6,\n",
    "                learning_rate=0.1,\n",
    "                subsample=0.5,\n",
    "                colsample_bytree=0.5,\n",
    "                random_state=42,\n",
    "                n_jobs=-1\n",
    "            )\n",
    "\n",
    "        # Train models separately on treated and control groups\n",
    "        model_treated.fit(X_train[T_train == 1], Y_train[T_train == 1])\n",
    "        model_control.fit(X_train[T_train == 0], Y_train[T_train == 0])\n",
    "\n",
    "        # Predict outcomes for the whole dataset using both models\n",
    "        Y1_pred = model_treated.predict(X)  # Predicted outcomes if treated\n",
    "        Y0_pred = model_control.predict(X)  # Predicted outcomes if control\n",
    "\n",
    "        # Calculate ATT for the treated group (treated - control for treated individuals)\n",
    "        att_t_learner = np.mean(Y1_pred[T == 1] - Y0_pred[T == 1])\n",
    "        att_estimates.append(att_t_learner)\n",
    "\n",
    "        # Calculate Average Treatment Effect (ATE) for the entire population\n",
    "        ate_t_learner = np.mean(Y1_pred - Y0_pred)\n",
    "        ate_estimates.append(ate_t_learner)\n",
    "\n",
    "        # Calculate RMSE for this run and store the values\n",
    "        train_rmse_treated = np.sqrt(np.mean((Y_train[T_train == 1] - model_treated.predict(X_train[T_train == 1]))**2))\n",
    "        train_rmse_control = np.sqrt(np.mean((Y_train[T_train == 0] - model_control.predict(X_train[T_train == 0]))**2))\n",
    "        val_rmse_treated = np.sqrt(np.mean((Y_val[T_val == 1] - model_treated.predict(X_val[T_val == 1]))**2))\n",
    "        val_rmse_control = np.sqrt(np.mean((Y_val[T_val == 0] - model_control.predict(X_val[T_val == 0]))**2))\n",
    "\n",
    "        # Append the RMSE values for this bootstrap run\n",
    "        train_rmse_treated_values.append(train_rmse_treated)\n",
    "        train_rmse_control_values.append(train_rmse_control)\n",
    "        val_rmse_treated_values.append(val_rmse_treated)\n",
    "        val_rmse_control_values.append(val_rmse_control)\n",
    "\n",
    "    # Compute confidence intervals\n",
    "    lower_percentile = (100 - ci) / 2\n",
    "    upper_percentile = 100 - lower_percentile\n",
    "    ate_ci = np.percentile(ate_estimates, [lower_percentile, upper_percentile])\n",
    "    att_ci = np.percentile(att_estimates, [lower_percentile, upper_percentile])\n",
    "\n",
    "    # Calculate the mean RMSE across all bootstrap runs\n",
    "    mean_train_rmse_treated = np.mean(train_rmse_treated_values)\n",
    "    mean_train_rmse_control = np.mean(train_rmse_control_values)\n",
    "    mean_val_rmse_treated = np.mean(val_rmse_treated_values)\n",
    "    mean_val_rmse_control = np.mean(val_rmse_control_values)\n",
    "\n",
    "    # Print results\n",
    "    print(f'Mean Training RMSE (Treated): {mean_train_rmse_treated:.2f}')\n",
    "    print(f'Mean Training RMSE (Control): {mean_train_rmse_control:.2f}')\n",
    "    print(f'Mean Validation RMSE (Treated): {mean_val_rmse_treated:.2f}')\n",
    "    print(f'Mean Validation RMSE (Control): {mean_val_rmse_control:.2f}')\n",
    "    print(f'Average Treatment Effect (ATE): {ate_t_learner:.2f} (95% CI: {ate_ci})')\n",
    "    print(f'Average Treatment Effect for Treated (ATT): {att_t_learner:.2f} (95% CI: {att_ci})')\n",
    "\n",
    "    return att_ci, ate_ci, mean_train_rmse_treated, mean_train_rmse_control, mean_val_rmse_treated, mean_val_rmse_control\n"
   ],
   "metadata": {
    "collapsed": false,
    "ExecuteTime": {
     "end_time": "2024-10-14T10:14:36.193478Z",
     "start_time": "2024-10-14T10:14:36.186661Z"
    }
   },
   "id": "565f29467affad09",
   "execution_count": 37
  },
  {
   "cell_type": "code",
   "outputs": [
    {
     "name": "stdout",
     "output_type": "stream",
     "text": [
      "Mean Training RMSE (Treated): 1.11\n",
      "Mean Training RMSE (Control): 1.10\n",
      "Mean Validation RMSE (Treated): 1.23\n",
      "Mean Validation RMSE (Control): 1.17\n",
      "Average Treatment Effect (ATE): -0.12 (95% CI: [-0.20494714  0.04133588])\n",
      "Average Treatment Effect for Treated (ATT): -0.12 (95% CI: [-0.19202197  0.05319487])\n",
      "Mean Training RMSE (Treated): 1.10\n",
      "Mean Training RMSE (Control): 1.13\n",
      "Mean Validation RMSE (Treated): 1.24\n",
      "Mean Validation RMSE (Control): 1.20\n",
      "Average Treatment Effect (ATE): -0.02 (95% CI: [-0.2220758   0.04978464])\n",
      "Average Treatment Effect for Treated (ATT): -0.03 (95% CI: [-0.21224916  0.06711857])\n"
     ]
    },
    {
     "data": {
      "text/plain": "(array([-0.21224916,  0.06711857]),\n array([-0.2220758 ,  0.04978464]),\n 1.1026109492605267,\n 1.1301856127624013,\n 1.2441889799053283,\n 1.1967272233861361)"
     },
     "execution_count": 38,
     "metadata": {},
     "output_type": "execute_result"
    }
   ],
   "source": [
    "# Estimate ATT using the T-Learner\n",
    "estimate_att_and_ate_t_learner(T, Y, X, is_rf_model=True)\n",
    "print()\n",
    "estimate_att_and_ate_t_learner(T, Y, X, is_rf_model=False)\n"
   ],
   "metadata": {
    "collapsed": false,
    "ExecuteTime": {
     "end_time": "2024-10-14T10:20:32.023636Z",
     "start_time": "2024-10-14T10:14:36.194206Z"
    }
   },
   "id": "25d3c5e730c8e938",
   "execution_count": 38
  },
  {
   "cell_type": "code",
   "outputs": [],
   "source": [
    "import numpy as np\n",
    "from sklearn.neighbors import NearestNeighbors\n",
    "\n",
    "# Function to estimate ATT using Matching with Bootstrapping\n",
    "def estimate_att_matching(T, Y, X, n_bootstrap=1000, ci=95):\n",
    "    att_estimates = []\n",
    "    rmse_values = []\n",
    "\n",
    "    for _ in range(n_bootstrap):\n",
    "        # Bootstrap resampling\n",
    "        indices = np.random.choice(len(X), size=len(X), replace=True)\n",
    "        X_resample = X.iloc[indices]\n",
    "        Y_resample = Y.iloc[indices]\n",
    "        T_resample = T.iloc[indices]\n",
    "\n",
    "        # Perform nearest neighbor matching\n",
    "        nn = NearestNeighbors(n_neighbors=1)\n",
    "        nn.fit(X_resample[T_resample == 0])\n",
    "        distances, indices = nn.kneighbors(X_resample[T_resample == 1])\n",
    "        matched_outcomes = Y_resample[T_resample == 0].values[indices].flatten()\n",
    "\n",
    "        # Calculate ATT for this bootstrap sample\n",
    "        att_matching = np.mean(Y_resample[T_resample == 1].values - matched_outcomes)\n",
    "        att_estimates.append(att_matching)\n",
    "\n",
    "        # Calculate RMSE for the matched outcomes\n",
    "        actual_outcomes = Y_resample[T_resample == 1].values\n",
    "        rmse = np.sqrt(np.mean((actual_outcomes - matched_outcomes)**2))\n",
    "        rmse_values.append(rmse)\n",
    "\n",
    "    # Compute confidence interval for ATT\n",
    "    lower_percentile = (100 - ci) / 2\n",
    "    upper_percentile = 100 - lower_percentile\n",
    "    att_ci = np.percentile(att_estimates, [lower_percentile, upper_percentile])\n",
    "\n",
    "    # Calculate mean RMSE across all bootstrap samples\n",
    "    mean_rmse = np.mean(rmse_values)\n",
    "\n",
    "    # Print results\n",
    "    print(f'Mean RMSE: {mean_rmse:.2f}')\n",
    "    print(f'Average Treatment Effect for Treated (ATT): {np.mean(att_estimates):.2f} (95% CI: {att_ci})')\n",
    "\n",
    "    return att_ci, mean_rmse\n"
   ],
   "metadata": {
    "collapsed": false,
    "ExecuteTime": {
     "end_time": "2024-10-14T10:20:32.028523Z",
     "start_time": "2024-10-14T10:20:32.024976Z"
    }
   },
   "id": "f68cd867be2f134b",
   "execution_count": 39
  },
  {
   "cell_type": "code",
   "outputs": [
    {
     "name": "stdout",
     "output_type": "stream",
     "text": [
      "Mean RMSE: 1.75\n",
      "Average Treatment Effect for Treated (ATT): -0.06 (95% CI: [-0.25039758  0.13002479])\n"
     ]
    },
    {
     "data": {
      "text/plain": "(array([-0.25039758,  0.13002479]), 1.745120854060342)"
     },
     "execution_count": 40,
     "metadata": {},
     "output_type": "execute_result"
    }
   ],
   "source": [
    "# Estimate ATT using Matching\n",
    "estimate_att_matching(T, Y, X)"
   ],
   "metadata": {
    "collapsed": false,
    "ExecuteTime": {
     "end_time": "2024-10-14T10:20:34.757485Z",
     "start_time": "2024-10-14T10:20:32.029971Z"
    }
   },
   "id": "1a2aaec1a488d83e",
   "execution_count": 40
  },
  {
   "cell_type": "code",
   "outputs": [],
   "source": [
    "import numpy as np\n",
    "\n",
    "# Function to estimate ATT and ATE using Inverse Probability Weighting (IPW) with Bootstrapping\n",
    "def estimate_ipw_att_ate(T, Y, weights, n_bootstrap=1000, ci=95):\n",
    "    att_estimates = []\n",
    "    ate_estimates = []\n",
    "    rmse_values = []\n",
    "\n",
    "    for _ in range(n_bootstrap):\n",
    "        # Bootstrap resampling\n",
    "        indices = np.random.choice(len(T), size=len(T), replace=True)\n",
    "        T_resample = T.iloc[indices]\n",
    "        Y_resample = Y.iloc[indices]\n",
    "        weights_resample = weights.iloc[indices]\n",
    "\n",
    "        # Step 3: Calculate weighted average outcomes\n",
    "        # Weighted outcome for the treated group\n",
    "        weighted_outcome_treated = np.sum(weights_resample[T_resample == 1] * Y_resample[T_resample == 1]) / np.sum(weights_resample[T_resample == 1])\n",
    "\n",
    "        # Weighted outcome for the control group\n",
    "        weighted_outcome_control = np.sum(weights_resample[T_resample == 0] * Y_resample[T_resample == 0]) / np.sum(weights_resample[T_resample == 0])\n",
    "\n",
    "        # Step 4: Calculate ATT and ATE\n",
    "        att_ipw = weighted_outcome_treated - np.mean(Y_resample[T_resample == 0])\n",
    "        ate_ipw = weighted_outcome_treated - weighted_outcome_control\n",
    "\n",
    "        att_estimates.append(att_ipw)\n",
    "        ate_estimates.append(ate_ipw)\n",
    "\n",
    "        # Calculate RMSE for this bootstrap sample\n",
    "        actual_outcomes_control = Y_resample[T_resample == 0]\n",
    "        predicted_outcomes_control = np.full_like(actual_outcomes_control, weighted_outcome_control)\n",
    "        rmse = np.sqrt(np.mean((actual_outcomes_control - predicted_outcomes_control)**2))\n",
    "        rmse_values.append(rmse)\n",
    "\n",
    "    # Compute confidence intervals for ATT and ATE\n",
    "    lower_percentile = (100 - ci) / 2\n",
    "    upper_percentile = 100 - lower_percentile\n",
    "    att_ci = np.percentile(att_estimates, [lower_percentile, upper_percentile])\n",
    "    ate_ci = np.percentile(ate_estimates, [lower_percentile, upper_percentile])\n",
    "\n",
    "    # Calculate mean RMSE across all bootstrap samples\n",
    "    mean_rmse = np.mean(rmse_values)\n",
    "\n",
    "    # Print results\n",
    "    print(f'Mean RMSE: {mean_rmse:.2f}')\n",
    "    print(f'Average Treatment Effect (ATE): {np.mean(ate_estimates):.2f} (95% CI: {ate_ci})')\n",
    "    print(f'Average Treatment Effect for Treated (ATT): {np.mean(att_estimates):.2f} (95% CI: {att_ci})')\n",
    "\n",
    "    return att_ci, ate_ci, mean_rmse\n"
   ],
   "metadata": {
    "collapsed": false,
    "ExecuteTime": {
     "end_time": "2024-10-14T10:20:34.762516Z",
     "start_time": "2024-10-14T10:20:34.758261Z"
    }
   },
   "id": "830ab58df1858c53",
   "execution_count": 41
  },
  {
   "cell_type": "code",
   "outputs": [
    {
     "name": "stdout",
     "output_type": "stream",
     "text": [
      "Mean RMSE: 1.22\n",
      "Average Treatment Effect (ATE): -0.09 (95% CI: [-0.435479    0.23104185])\n",
      "Average Treatment Effect for Treated (ATT): -0.11 (95% CI: [-0.42343764  0.1653483 ])\n"
     ]
    },
    {
     "data": {
      "text/plain": "(array([-0.42343764,  0.1653483 ]),\n array([-0.435479  ,  0.23104185]),\n 1.2178595326849655)"
     },
     "execution_count": 42,
     "metadata": {},
     "output_type": "execute_result"
    }
   ],
   "source": [
    "\n",
    "estimate_ipw_att_ate(T, Y, pd.Series(sample_weights))"
   ],
   "metadata": {
    "collapsed": false,
    "ExecuteTime": {
     "end_time": "2024-10-14T10:20:35.655465Z",
     "start_time": "2024-10-14T10:20:34.763339Z"
    }
   },
   "id": "b18036eea5384395",
   "execution_count": 42
  },
  {
   "cell_type": "code",
   "outputs": [
    {
     "name": "stdout",
     "output_type": "stream",
     "text": [
      "Feature:  Volunteering\n",
      "Mean Training RMSE: 1.18\n",
      "Mean Validation RMSE: 1.21\n",
      "Average Treatment Effect (ATE): -0.03 (95% CI: [-0.15497935  0.03345865])\n",
      "Average Treatment Effect for Treated (ATT): -0.03 (95% CI: [-0.15619607  0.03313911])\n",
      "\n",
      "Feature:  Music\n",
      "Mean Training RMSE: 1.17\n",
      "Mean Validation RMSE: 1.21\n",
      "Average Treatment Effect (ATE): 0.02 (95% CI: [-0.16694544  0.04056021])\n",
      "Average Treatment Effect for Treated (ATT): 0.03 (95% CI: [-0.16606954  0.04025846])\n",
      "\n",
      "Feature:  Extracurricular\n",
      "Mean Training RMSE: 1.17\n",
      "Mean Validation RMSE: 1.20\n",
      "Average Treatment Effect (ATE): -0.00 (95% CI: [-0.16433679  0.03406435])\n",
      "Average Treatment Effect for Treated (ATT): 0.00 (95% CI: [-0.16087432  0.03504951])\n",
      "\n",
      "Feature:  Tutoring\n",
      "Mean Training RMSE: 1.17\n",
      "Mean Validation RMSE: 1.20\n",
      "Average Treatment Effect (ATE): -0.09 (95% CI: [-0.14072364  0.03542764])\n",
      "Average Treatment Effect for Treated (ATT): -0.09 (95% CI: [-0.13981536  0.03570656])\n",
      "\n",
      "Feature:  Absences\n",
      "Mean Training RMSE: 0.76\n",
      "Mean Validation RMSE: 0.79\n",
      "Average Treatment Effect (ATE): -0.05 (95% CI: [-0.13373282 -0.01943501])\n",
      "Average Treatment Effect for Treated (ATT): -0.05 (95% CI: [-0.13664999 -0.01963158])\n",
      "\n",
      "Feature:  StudyTimeWeekly\n",
      "Mean Training RMSE: 1.14\n",
      "Mean Validation RMSE: 1.19\n",
      "Average Treatment Effect (ATE): -0.02 (95% CI: [-0.13762521  0.02720488])\n",
      "Average Treatment Effect for Treated (ATT): -0.01 (95% CI: [-0.13877756  0.02695943])\n"
     ]
    }
   ],
   "source": [
    "# try best model with post treatment features\n",
    "for feature in post_treatment_feature_cols:\n",
    "    new_X = pd.concat([X, data[feature]], axis=1)\n",
    "    print(\"Feature: \", feature)\n",
    "    estimate_att_and_ate_s_learner(T, Y, new_X, is_rf_model=True)\n",
    "    print()\n",
    "    \n",
    "    "
   ],
   "metadata": {
    "collapsed": false,
    "ExecuteTime": {
     "end_time": "2024-10-14T10:25:11.697476Z",
     "start_time": "2024-10-14T10:20:35.656171Z"
    }
   },
   "id": "fda257b4e94295cf",
   "execution_count": 43
  },
  {
   "cell_type": "code",
   "outputs": [],
   "source": [
    "# TODO: can note: we didnt saw a reason to try double robust estimator because we try a lot of methods (including the ones that are used in the double robust estimator) and we got very similiar results"
   ],
   "metadata": {
    "collapsed": false,
    "ExecuteTime": {
     "end_time": "2024-10-14T10:25:11.699662Z",
     "start_time": "2024-10-14T10:25:11.698041Z"
    }
   },
   "id": "b70f8fea053997de",
   "execution_count": 44
  }
 ],
 "metadata": {
  "kernelspec": {
   "display_name": "Python 3",
   "language": "python",
   "name": "python3"
  },
  "language_info": {
   "codemirror_mode": {
    "name": "ipython",
    "version": 2
   },
   "file_extension": ".py",
   "mimetype": "text/x-python",
   "name": "python",
   "nbconvert_exporter": "python",
   "pygments_lexer": "ipython2",
   "version": "2.7.6"
  }
 },
 "nbformat": 4,
 "nbformat_minor": 5
}
